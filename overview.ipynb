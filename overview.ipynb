{
 "cells": [
  {
   "cell_type": "markdown",
   "metadata": {},
   "source": [
    "<p style=\"color:#0000EE; text-decoration:underline\" onclick=\"includeContent('data_exploration.html'); document.getElementById('topnv').selectedIndex=1; document.getElementById('botnav').selectedIndex=1;\"> Chapter 1 - Data Exploration </p>\n",
    "\n",
    "<p style=\"color:#0000EE; text-decoration:underline\" onclick=\"includeContent('baseline.html'); document.getElementById('topnv').selectedIndex=2; document.getElementById('botnav').selectedIndex=2;\"> Chapter 2 - Data Cleaning: tf-idf </p>\n",
    "\n",
    "\n",
    "<p style=\"color:#0000EE; text-decoration:underline\" onclick=\"includeContent('baseline.html'); document.getElementById('topnv').selectedIndex=3; document.getElementById('botnav').selectedIndex=3;\"> Chapter 3 - Baseline Model </p>\n",
    "\n",
    "\n",
    "<p style=\"color:#0000EE; text-decoration:underline\" onclick=\"includeContent('lsa.html'); document.getElementById('topnv').selectedIndex=4; document.getElementById('botnav').selectedIndex=4;\"> Chapter 4 - LSA </p>\n",
    "\n",
    "<p style=\"color:#0000EE; text-decoration:underline\" onclick=\"includeContent('meta_features.html'); document.getElementById('topnv').selectedIndex=5; document.getElementById('botnav').selectedIndex=5;\"> Chapter 5 - Meta Features </p>\n",
    "\n",
    "\n",
    "<p style=\"color:#0000EE; text-decoration:underline\" onclick=\"includeContent('lasso.html'); document.getElementById('topnv').selectedIndex=6; document.getElementById('botnav').selectedIndex=6;\"> Chapter 6 - Regularization: Lasso </p>\n",
    "\n",
    "\n",
    "<p style=\"color:#0000EE; text-decoration:underline\" onclick=\"includeContent('final.html'); document.getElementById('topnv').selectedIndex=7; document.getElementById('botnav').selectedIndex=7;\"> Chapter 7 - Final Model </p>\n",
    "\n",
    "<p style=\"color:#0000EE; text-decoration:underline\" onclick=\"includeContent('futre.html'); document.getElementById('topnv').selectedIndex=8; document.getElementById('botnav').selectedIndex=8;\"> Chapter 8 - Future Work </p>\n",
    "\n",
    "\n",
    "\n",
    "\n",
    "\n",
    "\n",
    "\n"
   ]
  }
 ],
 "metadata": {
  "kernelspec": {
   "display_name": "Python 2",
   "language": "python",
   "name": "python2"
  },
  "language_info": {
   "codemirror_mode": {
    "name": "ipython",
    "version": 2
   },
   "file_extension": ".py",
   "mimetype": "text/x-python",
   "name": "python",
   "nbconvert_exporter": "python",
   "pygments_lexer": "ipython2",
   "version": "2.7.12"
  }
 },
 "nbformat": 4,
 "nbformat_minor": 0
}
