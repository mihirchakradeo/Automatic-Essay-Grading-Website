{
 "cells": [
  {
   "cell_type": "markdown",
   "metadata": {},
   "source": [
    "<p style=\"color:#0000EE; text-decoration:underline\" onclick=\"includeContent('data_exploration.html'); document.getElementById('topnv').selectedIndex=2; document.getElementById('botnav').selectedIndex=2;\"> Data Exploration </p>\n",
    "\n",
    "\n",
    "\n",
    "<p style=\"color:#0000EE; text-decoration:underline\" onclick=\"includeContent('baseline.html'); document.getElementById('topnv').selectedIndex=3; document.getElementById('botnav').selectedIndex=3;\"> Baseline Model </p>\n",
    "\n",
    "\n",
    "<p style=\"color:#0000EE; text-decoration:underline\" onclick=\"includeContent('lsa.html'); document.getElementById('topnv').selectedIndex=4; document.getElementById('botnav').selectedIndex=4;\"> LSA </p>\n",
    "\n",
    "<p style=\"color:#0000EE; text-decoration:underline\" onclick=\"includeContent('meta_features.html'); document.getElementById('topnv').selectedIndex=5; document.getElementById('botnav').selectedIndex=5;\"> Meta Features </p>\n",
    "\n",
    "\n",
    "<p style=\"color:#0000EE; text-decoration:underline\" onclick=\"includeContent('lasso.html'); document.getElementById('topnv').selectedIndex=6; document.getElementById('botnav').selectedIndex=6;\"> Regularization: Lasso </p>\n",
    "\n",
    "\n",
    "<p style=\"color:#0000EE; text-decoration:underline\" onclick=\"includeContent('final.html'); document.getElementById('topnv').selectedIndex=7; document.getElementById('botnav').selectedIndex=7;\"> Final Model </p>\n",
    "\n",
    "\n",
    "\n",
    "\n",
    "\n",
    "\n",
    "\n",
    "\n"
   ]
  },
  {
   "cell_type": "markdown",
   "metadata": {},
   "source": [
    "new5"
   ]
  },
  {
   "cell_type": "code",
   "execution_count": null,
   "metadata": {
    "collapsed": true
   },
   "outputs": [],
   "source": []
  }
 ],
 "metadata": {
  "kernelspec": {
   "display_name": "Python 2",
   "language": "python",
   "name": "python2"
  },
  "language_info": {
   "codemirror_mode": {
    "name": "ipython",
    "version": 2
   },
   "file_extension": ".py",
   "mimetype": "text/x-python",
   "name": "python",
   "nbconvert_exporter": "python",
   "pygments_lexer": "ipython2",
   "version": "2.7.12"
  }
 },
 "nbformat": 4,
 "nbformat_minor": 0
}
