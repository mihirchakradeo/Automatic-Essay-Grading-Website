{
 "cells": [
  {
   "cell_type": "markdown",
   "metadata": {},
   "source": [
    "<table class=\"table\"> <tbody> <tr>\n",
    "\t\t<td> <label class=\"control-label\"> <font size=3> Select chapter: </font> </label> </td>\n",
    "\t\t<td> <select id=\"topnv\" class=\"form-control\" onchange=\"includeContent(this.options[this.selectedIndex].value);document.getElementById('botnav').options[this.options.selectedIndex].selected = true;\">\n",
    "\t\t    <OPTION value=\"overview.html\">Overview</option> <!-- capitalized so it is not clobbered by publish.py -->\n",
    "\t\t\t\t<option value=\"data_exploration.html\">Chapter 1 - Data Exploration</option>\n",
    "\t\t\t\t<option value=\"tfidf.html\">Chapter 2 - Data Cleaning: TF-IDF</option>\n",
    "\t\t\t\t<option value=\"baseline.html\">Chapter 3 - Baseline Model Fitting and Results</option>\n",
    "\t\t\t\t<option value=\"lsa.html\">Chapter 4 - Model Enhancement: LSA</option>\n",
    "\t\t\t\t<option value=\"meta_features.html\">Chapter 5 - Model Enhancement: Meta Features</option>\n",
    "\t\t\t\t<option value=\"lasso.html\">Chapter 6 - Model Enhancement: Regularization</option>\n",
    "\t\t\t\t<option value=\"final.html\">Chapter 7 - Final Model Fitting and Results</option>\n",
    "\t\t\t\t<option value=\"future.html\">Chapter 8 - Future Works</option>\n",
    "\t\t</select> </td>\n",
    "\t  </tr> </tbody> </table>"
   ]
  },
  {
   "cell_type": "markdown",
   "metadata": {},
   "source": [
    "< href onclick=\"includeContent(this.options[this.selectedIndex].data_exploration.html);\n",
    "document.getElementById('botnav').options[this.options.selectedIndex].selected = true;\">  Data Exploration </a>"
   ]
  },
  {
   "cell_type": "code",
   "execution_count": null,
   "metadata": {
    "collapsed": true
   },
   "outputs": [],
   "source": []
  }
 ],
 "metadata": {
  "kernelspec": {
   "display_name": "Python 2",
   "language": "python",
   "name": "python2"
  },
  "language_info": {
   "codemirror_mode": {
    "name": "ipython",
    "version": 2
   },
   "file_extension": ".py",
   "mimetype": "text/x-python",
   "name": "python",
   "nbconvert_exporter": "python",
   "pygments_lexer": "ipython2",
   "version": "2.7.12"
  }
 },
 "nbformat": 4,
 "nbformat_minor": 0
}
