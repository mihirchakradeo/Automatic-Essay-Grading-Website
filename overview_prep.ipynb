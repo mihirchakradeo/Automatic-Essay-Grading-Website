{
 "cells": [
  {
   "cell_type": "markdown",
   "metadata": {},
   "source": [
    "# Overview Preparation\n",
    "\n",
    "This notebook is create underlying text and graphics for the overview page. Ultimately the contents have to be manually moved to a more pleasing format by hand."
   ]
  },
  {
   "cell_type": "markdown",
   "metadata": {},
   "source": [
    "It is college application season. Across the country four million students will be submitting upwards of forty million applications ([source](http://www.nytimes.com/2014/11/16/nyregion/applications-by-the-dozen-as-anxious-students-hedge-college-bets.html)) and then fretting until late March to find the results. Our team at Harvard's Data Science Class has analyzed more than 13,000 applications to determine which factors matter most to the top twenty-five colleges in the USA. We have also built an [online predictor](http://www.chanceme.info/) that lets a student or parent enter current results, see the chances of getting into an elite college. Even more importantly, the student can then change the values to see if time is better spent improving grades or playing more varsity sports.\n",
    "\n",
    "Let's see how one student, Morgan a math-savvy junior, can use [our website](http://www.chanceme.info/) decide where to spend her time. "
   ]
  },
  {
   "cell_type": "code",
   "execution_count": 1,
   "metadata": {
    "collapsed": false
   },
   "outputs": [
    {
     "data": {
      "text/html": [
       "\n",
       "        <iframe\n",
       "            width=\"400\"\n",
       "            height=\"300\"\n",
       "            src=\"https://www.youtube.com/embed/yJmguqR9pXo\"\n",
       "            frameborder=\"0\"\n",
       "            allowfullscreen\n",
       "        ></iframe>\n",
       "        "
      ],
      "text/plain": [
       "<IPython.lib.display.YouTubeVideo at 0x10451f310>"
      ]
     },
     "execution_count": 1,
     "metadata": {},
     "output_type": "execute_result"
    }
   ],
   "source": [
    "from IPython.display import YouTubeVideo\n",
    "\n",
    "YouTubeVideo('yJmguqR9pXo')"
   ]
  },
  {
   "cell_type": "markdown",
   "metadata": {},
   "source": [
    "## Which Factors are Most Important\n",
    "\n",
    "\n",
    "\n",
    "\n",
    "\n",
    "\n",
    "\n",
    "\n",
    "\n",
    "\n",
    "\n",
    "\n",
    "\n",
    "\n",
    "\n",
    "\n",
    "\n",
    "\n",
    "\n",
    "\n",
    "\n",
    "\n",
    "\n",
    "\n",
    "\n",
    "\n",
    "\n",
    "\n",
    "\n",
    "\n",
    "\n",
    "\n",
    "\n",
    "\n",
    "\n",
    "\n",
    "\n",
    "\n",
    "\n",
    "\n",
    "\n",
    "\n",
    "\n",
    "\n",
    "\n",
    "\n",
    "\n",
    "\n",
    "\n",
    "\n",
    "\n"
   ]
  },
  {
   "cell_type": "markdown",
   "metadata": {},
   "source": [
    "Standardized tests, GPA and the school the student is applying to are by far the most important factors that determine admission success. This should come as no surprise. What is surprising is how little other factors matter. Sports can be [a huge time sink](http://collegepuzzle.stanford.edu/?p=2088) yet make no difference to a successful admission. Unless the student is a star recruited athlete, a fraction of the time spent on sports would be better spent improving standardized tests, especially the SAT or ACT score. \n",
    "\n",
    "Having Legacy which many parents count on and many students wish for, turns out not to be as important as AP exams or SAT subject tests. \n",
    "\n",
    "<img src=\"features.png\">"
   ]
  },
  {
   "cell_type": "markdown",
   "metadata": {},
   "source": [
    "## Diversity\n",
    "\n",
    "Being an underrepresented minority (Hispanic, African-American, Native American) provides an average boost to the candidate's SAT or ACT by 87 points. This can make a huge difference when the schools are so competitive. However, this advantage varies significantly by school. Carnegie Mellon gives the greatest boost to minorities, with an average increase of 149 points. Harvard is notably the only of the top twenty-five that has statistically no premium given to underrepresented minorities.\n",
    "\n",
    "<img src=\"minoritySAT.png\"></a>"
   ]
  },
  {
   "cell_type": "markdown",
   "metadata": {},
   "source": [
    "## Truly Needs Blind?\n",
    "\n",
    "Most of these elite schools claim to be \"needs blind.\" Their admission decision is not supposed to factor in the ability of the candidate to pay. Our analysis showed this indeed to be the case: whether or not the candidate needed financial assistance had no affect on the acceptance decision. The acceptance rates, when all other factors were accounted for, remained the same irrespective of whether the student was able to pay full tuition or not."
   ]
  },
  {
   "cell_type": "markdown",
   "metadata": {},
   "source": [
    "## Are private schools worth the addition price?\n",
    "\n",
    "Some private schools have annual tuition as much as college although for twelve years instead of four. For example, $30,000 per year invested at 5% over 12 years means cumulative cost of almost half a million dollars."
   ]
  },
  {
   "cell_type": "code",
   "execution_count": 8,
   "metadata": {
    "collapsed": false
   },
   "outputs": [
    {
     "name": "stdout",
     "output_type": "stream",
     "text": [
      "30000.0\n",
      "61500.0\n",
      "94575.0\n",
      "129303.75\n",
      "165768.9375\n",
      "204057.384375\n",
      "244260.253594\n",
      "286473.266273\n",
      "330796.929587\n",
      "377336.776066\n",
      "426203.61487\n",
      "477513.795613\n"
     ]
    },
    {
     "data": {
      "text/plain": [
       "30000"
      ]
     },
     "execution_count": 8,
     "metadata": {},
     "output_type": "execute_result"
    }
   ],
   "source": [
    "tuition = 30000\n",
    "years = 12\n",
    "intrate = 0.05\n",
    "tot = 0.0\n",
    "for i in range(12):\n",
    "    tot += tuition * (1 + intrate)**i\n",
    "    print tot\n",
    "    \n",
    "tuition "
   ]
  },
  {
   "cell_type": "markdown",
   "metadata": {},
   "source": [
    "As you can see in the following chart, students at private schools have an advantage in the most critical aspects for college admissions. The differences appear slight, but when twenty points in SAT score can make the difference between acceptance and rejection, the results are pronounced.\n",
    "\n",
    "<img src=\"privateschool.png\"></a>"
   ]
  },
  {
   "cell_type": "markdown",
   "metadata": {},
   "source": [
    "## College-By-College Differences\n",
    "\n",
    "Most of us have an intuitive sense about which factors of an application are most important for determining admissions. However, things get murky when we start to think about how each college might differentially weight the factors. Much of the uncertainty surrounding applying to Ivy League schools arises from the seeming randomness of admissions-- why should a 4.0 student with high SAT scores get into Harvard, but not Princeton or Yale? We aimed to quantify some over this inter-college variation."
   ]
  },
  {
   "cell_type": "markdown",
   "metadata": {},
   "source": [
    "We asked whether being a legacy had different levels of importance in determining admissions across our 25 schools. We find that although legacy has a positive effect on admission at every school, it is especially important at the Ivy League schools, as well as at Stanford and MIT. \n",
    "\n",
    "<img src=\"legacy.png\"></a>"
   ]
  },
  {
   "cell_type": "markdown",
   "metadata": {
    "collapsed": true
   },
   "source": [
    "We were also curious how gender and race might affect one's chances of admission. We find the following:\n",
    "<img src=\"female.png\"></a>\n",
    "Our results confirm the conventional wisdom that technical schools like MIT and CalTech, which have a low proportion of matriculating females, are more likely to admit women. \n"
   ]
  },
  {
   "cell_type": "markdown",
   "metadata": {},
   "source": []
  },
  {
   "cell_type": "markdown",
   "metadata": {
    "collapsed": true
   },
   "source": [
    "##Conclusions\n",
    "\n",
    "We have provided some much-needed insight into the murky waters of the college admissions process. Our hope is that this information empowers students and their supporters to make informed decisions about priorities and factors to condiser when applying to college. Clearly, SAT scores and GPA are the most important factors of an application. Students should focus on boosting their academic profiles in lieu of joining more and more extracurricular activities.  There are some limitations to our approach given the structure of our dataset. For example, we are unable to take account of any personal statements or recommendation letters, which are obviously very important in the application procedure. However, to the best of our knowledge, this analysis is the most extensive open-source tool available to high school students to date."
   ]
  }
 ],
 "metadata": {
  "anaconda-cloud": {},
  "kernelspec": {
   "display_name": "Python [Root]",
   "language": "python",
   "name": "Python [Root]"
  },
  "language_info": {
   "codemirror_mode": {
    "name": "ipython",
    "version": 2
   },
   "file_extension": ".py",
   "mimetype": "text/x-python",
   "name": "python",
   "nbconvert_exporter": "python",
   "pygments_lexer": "ipython2",
   "version": "2.7.12"
  }
 },
 "nbformat": 4,
 "nbformat_minor": 0
}
