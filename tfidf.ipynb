{
 "cells": [
  {
   "cell_type": "markdown",
   "metadata": {
    "collapsed": true
   },
   "source": [
    "# Data cleaning: TF-IDF\n",
    "\n",
    "## 0. Overview:\n",
    "\n",
    "Below is a representative sentence from one essay:\n",
    "\n",
    ">Did you know that more and more people these days are depending on computers for their safety, natural education, and their social life? ...\n",
    "\n",
    "While the written language is straighforward for a human reader to evaluate, an automated system will need to translate the written word into a more machine-friendly format that will allow us to use data science techniques to grade the essays. The algorithm we have chosen is called term frequency-inverse document frequency, or **tf-idf** (\"term frequency\" because it emphasizes words that appear often in a particular essay, and \"inverse document frequency\" because it penalizes words that appear often in all documents). Essentially, this method takes as an input a set of text (in our case an essay) and *vectorizes* it, outputting a vector of numbers corresponding to that document.\n",
    "\n",
    "To create this output vector, a **tf-idf** algorithm counts the number of times a word appears in a document and scales it according to the formula\n",
    "\n",
    "$$\n",
    "w_{j,i} = tf_{j,i} \\cdot \\log\\frac{N}{df_i},\n",
    "$$\n",
    "\n",
    "where $tf_{i,j}$ is the number of times term $i$ occurs in essay $j$, $N$ is the total number of essays, $df_i$ is the number of documents containing term $i$, and $w_{j,i}$ is the tf-idf weighted term vector for this sentence.\n",
    "\n",
    "## EXAMPLES GO HERE\n",
    "\n",
    "Creating these vectors for every essay and stacking them on top of one another provides **tf-idf matrix**, a straightforward method for letting a computer handle text. Conveniently, taking any column from this matrix gives the (weighted) number of times a given word appears in each essay. Taking every column into account, we can now build a model that scores an essay based on the *word-content* of that essay.\n",
    "\n",
    "# TO DO:\n",
    "- Add in a couple example matrices based on the sentence above. I'm having a bit of trouble making it come out right (see `tfidf_example.py`)"
   ]
  },
  {
   "cell_type": "markdown",
   "metadata": {},
   "source": [
    "## 1. Import packages"
   ]
  },
  {
   "cell_type": "code",
   "execution_count": 3,
   "metadata": {
    "collapsed": false
   },
   "outputs": [],
   "source": [
    "import pandas as pd\n",
    "import numpy as np\n",
    "from sklearn.feature_extraction.text import CountVectorizer\n",
    "from sklearn.linear_model import LinearRegression\n",
    "import matplotlib.pyplot as plt\n",
    "import warnings\n",
    "import os\n",
    "import copy\n",
    "from scipy.stats import spearmanr\n",
    "warnings.filterwarnings('ignore')\n",
    "%matplotlib inline"
   ]
  }
 ],
 "metadata": {
  "anaconda-cloud": {},
  "kernelspec": {
   "display_name": "Python [Root]",
   "language": "python",
   "name": "Python [Root]"
  },
  "language_info": {
   "codemirror_mode": {
    "name": "ipython",
    "version": 2
   },
   "file_extension": ".py",
   "mimetype": "text/x-python",
   "name": "python",
   "nbconvert_exporter": "python",
   "pygments_lexer": "ipython2",
   "version": "2.7.12"
  }
 },
 "nbformat": 4,
 "nbformat_minor": 0
}
