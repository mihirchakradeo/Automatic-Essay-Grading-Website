{
 "cells": [
  {
   "cell_type": "markdown",
   "metadata": {
    "collapsed": true
   },
   "source": [
    "# Regularization (Lasso)\n",
    "\n"
   ]
  },
  {
   "cell_type": "markdown",
   "metadata": {},
   "source": [
    "Even after dimension reduction with LSA, our model still had in some cases 265 (260 from LSA + 5 meta-features) predictors.\n",
    "\n",
    "## Lasso\n",
    "In order to improve the prediction accuracy and interpretability of the model, we applied Lasso regularization.\n",
    "\n",
    "In Lasso regression, we penalize large coefficients by minimizing the following:\n",
    "$$ \\sum_{i=1}^{n}\\left(y_i  - \\beta_0 - \\sum_{j=1}^{p} \\beta_j x_{ij} \\right)^2  + \\alpha \\sum_{j=1}^{p} |\\beta_k| = RSS + \\lambda \\sum_{j=1}^{p} |\\beta_k| $$\n",
    "\n",
    "$\\alpha$ serves to control the impact of the regularization. When $\\alpha$ is small, the regularization is small, and result in similar coefficients to ordinary linear regression. As $\\alpha$ becomes larger, the coefficients becomes closer to zero.\n",
    "\n",
    "Unlike Ridge regression which the penalty is $l2$, some of the coefficients are forced to become exactly zero.\n",
    "\n",
    "\n",
    "For choosing the best regularization parameter $\\alpha$, we performed a five-fold cross validation and chose the $\\alpha$ that results in the best prediction accuracy.\n",
    "\n",
    "## Results\n",
    "As a result of Lasso cross-validation, we have further simplified the model as shown below. Number of features in the model has decreased to as small as 11. We have confirmed that all of the regularized model retained the 5 meta-features that we've added.\n",
    "\n",
    "| Essay set | Reg. param. $\\alpha$    | # of non-zero coeff. | # of original coeff.            \n",
    "| :-: |:---: | :-: | :-:\n",
    "|1| $1\\times 10^{-3}$  | 162 | 205\n",
    "|2| $1\\times 10^{-4}$  | 220 | 265 \n",
    "|3| $1\\times 10^{-3}$  | 11 |65\n",
    "|4| $1\\times 10^{-4}$  | 34 |45\n",
    "|5| $1\\times 10^{-4}$  | 13 |25 \n",
    "|6| $1\\times 10^{-4}$  | 98 |145\n",
    "|7| $1\\times 10^{-4}$  | 221 | 265\n",
    "|8| $1\\times 10^{-4}$  |129 |145"
   ]
  },
  {
   "cell_type": "code",
   "execution_count": null,
   "metadata": {
    "collapsed": true
   },
   "outputs": [],
   "source": []
  }
 ],
 "metadata": {
  "anaconda-cloud": {},
  "kernelspec": {
   "display_name": "Python 2",
   "language": "python",
   "name": "python2"
  },
  "language_info": {
   "codemirror_mode": {
    "name": "ipython",
    "version": 2
   },
   "file_extension": ".py",
   "mimetype": "text/x-python",
   "name": "python",
   "nbconvert_exporter": "python",
   "pygments_lexer": "ipython2",
   "version": "2.7.12"
  }
 },
 "nbformat": 4,
 "nbformat_minor": 0
}
