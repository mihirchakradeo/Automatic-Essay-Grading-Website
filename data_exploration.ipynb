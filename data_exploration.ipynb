{
 "cells": [
  {
   "cell_type": "markdown",
   "metadata": {},
   "source": [
    "# Data Exploration\n",
    "\n",
    "## 0. Data overview\n",
    "The data is taken from a [kaggle](https://www.kaggle.com/c/asap-aes) competition that the Hewlett Foundation held.\n",
    "There are eight essay sets, each of the sets being generated from a single prompt. Some of the essays are responses to given readings wheareas others are answers to a short question.\n",
    "All essays were hand graded by mutiple graders."
   ]
  },
  {
   "cell_type": "markdown",
   "metadata": {},
   "source": [
    "The data has 28 fields for each of the 12976 essays, includeing the following:\n",
    "- **essay_set**\n",
    "    - Which set the essay belong to.\n",
    "- **essay**\n",
    "    - Content of the essay.\n",
    "- **rater1_domain1, rater2_domain1, rater3_domain1**\n",
    "    - Score that each grader gave to the essay.\n",
    "- **domain1_score**\n",
    "    - Resolved score between the raters.\n",
    "    \n",
    "We are going to use **domain1_score** as the score we want to predict, and **essay_set** and **essay** as predictors."
   ]
  },
  {
   "cell_type": "markdown",
   "metadata": {
    "collapsed": false
   },
   "source": [
    "## 1. Basic Stats\n",
    "First, we extracted some of the basic statistics from the data:\n",
    "\n",
    "| Essay set | Min score | Max score | Mean score | Mean length (words)      \n",
    "| :-: |:--: | :-: | :--: | :--:\n",
    "| 1 | 2 | 12 | 8.5 | 353.1\n",
    "| 2 | 1 | 6 | 3.4 | 368.1\n",
    "| 3 | 0 | 3 | 1.8 | 105.7\n",
    "| 4 | 0 | 3 | 1.4 | 92.4\n",
    "| 5 | 0 | 4 | 2.4 | 118.6\n",
    "| 6 | 0 | 4 | 2.7 | 150.5\n",
    "| 7 | 2 | 24 | 16.1 | 155.9\n",
    "| 8 | 10 | 60 | 37.0 | 572.7\n",
    "\n"
   ]
  },
  {
   "cell_type": "markdown",
   "metadata": {},
   "source": [
    "## 2. Data Explorations: Histograms\n",
    "### 2.1 Essay Length\n",
    "We counted the number of word that each essay is containing, and plotted histograms for each essay set.\n",
    "<img src='figures/length_hist.png'>\n",
    "The histogram of essay length reveals that not only the mean essay length differs between different essay sets, the distribution is also different. Some essay sets look like they have normal distribution (e.g. Set 1), while others have negative skew (e.g. Set 8) or positive skew (e.g. Set 7)."
   ]
  },
  {
   "cell_type": "markdown",
   "metadata": {},
   "source": [
    "### 2.2 Score\n",
    "We plotted another set of histograms for scores.\n",
    "<img src='figures/score_hist.png'>\n",
    "The histogram of score also shows that different essay set has different distribution."
   ]
  },
  {
   "cell_type": "markdown",
   "metadata": {},
   "source": [
    "## 3. Data Explorations: Correlation to Score\n",
    "We hypothesized that some of the characteristics of the essays would have correlation with the score, so we plotted a couple of scattergrams.\n",
    "### 3.1 Essay Length\n",
    "First, we plotted **score vs essay length**, hypothesizing that longer essays tend to score better. For each grapsh, we also plotted a simple linear regression line.\n",
    "<img src='figures/corr_length.png'>\n",
    "It is clear that essay length correlates well with the score. In the future, we want to incorporate this into the model."
   ]
  },
  {
   "cell_type": "markdown",
   "metadata": {},
   "source": [
    "### 3.2 Number of Unique Words\n",
    "Next, we plotted **score vs # of unique words**, guessing that essays using large number of vocabularies would tend to score better.\n",
    "<img src='figures/corr_unique.png'>\n",
    "It is also shown that number of unique words correlates well with the score. In the future, we want to incorporate this into the model."
   ]
  },
  {
   "cell_type": "code",
   "execution_count": null,
   "metadata": {
    "collapsed": true
   },
   "outputs": [],
   "source": []
  }
 ],
 "metadata": {
  "anaconda-cloud": {},
  "kernelspec": {
   "display_name": "Python 2",
   "language": "python",
   "name": "python2"
  },
  "language_info": {
   "codemirror_mode": {
    "name": "ipython",
    "version": 2
   },
   "file_extension": ".py",
   "mimetype": "text/x-python",
   "name": "python",
   "nbconvert_exporter": "python",
   "pygments_lexer": "ipython2",
   "version": "2.7.12"
  }
 },
 "nbformat": 4,
 "nbformat_minor": 0
}
