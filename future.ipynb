{
 "cells": [
  {
   "cell_type": "markdown",
   "metadata": {},
   "source": [
    "# Future work\n",
    "\n",
    "Although our model has improved significantly from the baseline, we believe there is room for further improvement.\n",
    "\n",
    "Specifically, we propose doing higher level text analytics and incorporating them as meta-features. Here are some examples:\n",
    "- Syntax complexity\n",
    "    - We could extract features that represent syntax complexity such as length of clases, amount of embedding or subordination, amount of coordination, range of surface syntactic structures. There are some tools available for this. ([L2 Syntatic Complexity Analyzer](http://www.personal.psu.edu/xxl13/downloads/l2sca.html), [TAASSC](http://www.kristopherkyle.com/taassc.html))\n",
    "\n",
    "- Syllable count\n",
    "\n",
    "- Count misspellings\n",
    "\n",
    "- Part-of-speech tags\n",
    "\n",
    "For statistical models, we've also tested logistic regression and linear discriminant analysis (LDA) classifier for classifying the score. However, the performance (Spearman's rank correlation coefficients ($\\rho$) and $R^2$) was worse than our baseline multiple linear regression. \n",
    "We would also like to try other models such as Random Forest Classifier/Regressor and neural networks."
   ]
  },
  {
   "cell_type": "code",
   "execution_count": null,
   "metadata": {
    "collapsed": true
   },
   "outputs": [],
   "source": []
  }
 ],
 "metadata": {
  "kernelspec": {
   "display_name": "Python [Root]",
   "language": "python",
   "name": "Python [Root]"
  },
  "language_info": {
   "codemirror_mode": {
    "name": "ipython",
    "version": 2
   },
   "file_extension": ".py",
   "mimetype": "text/x-python",
   "name": "python",
   "nbconvert_exporter": "python",
   "pygments_lexer": "ipython2",
   "version": "2.7.12"
  }
 },
 "nbformat": 4,
 "nbformat_minor": 0
}
