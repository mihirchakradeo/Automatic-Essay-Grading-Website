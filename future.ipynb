{
 "cells": [
  {
   "cell_type": "markdown",
   "metadata": {},
   "source": [
    "# Future work\n",
    "\n",
    "Although our model has improved significantly from the baseline, we believe there is room for further improvement.\n",
    "\n",
    "Specifically, we propose doing higher level text analytics and incorporating them as meta-features. Here are some examples:\n",
    "- Syntax complexity\n",
    "\n",
    "- Syllable count\n",
    "\n",
    "- Count misspellings\n",
    "\n",
    "- Part-of-speech tags"
   ]
  }
 ],
 "metadata": {
  "kernelspec": {
   "display_name": "Python 2",
   "language": "python",
   "name": "python2"
  },
  "language_info": {
   "codemirror_mode": {
    "name": "ipython",
    "version": 2
   },
   "file_extension": ".py",
   "mimetype": "text/x-python",
   "name": "python",
   "nbconvert_exporter": "python",
   "pygments_lexer": "ipython2",
   "version": "2.7.12"
  }
 },
 "nbformat": 4,
 "nbformat_minor": 0
}
