{
 "cells": [
  {
   "cell_type": "markdown",
   "metadata": {},
   "source": [
    "# Baseline Model\n",
    "\n",
    "## Multiple Linear Regression:\n",
    "As a baseline, we trained a multiple linear regression model using tf-idf matrices ($W_{N\\times I}$) as predictors.\n",
    "\n",
    "Note here that the $W_{N\\times I}$ is a huge (5000 - 16000 columns) sparse matrix.\n",
    "\n",
    "## Results\n",
    "We split the data into training set (90%) and testing set (10%) and evaluated the model on how well the model crated by training performed on testing set.\n",
    "\n",
    "The image below is the scatter plot of actual Score vs predicted score.\n",
    "A perfect model will result in every point on diagonal line $y=x$.\n",
    "\n",
    "We calculated Spearman's rank correlation coefficient ($\\rho$), which is a measure of rank correlation (monotonic relationships between $x$ and $y$.\n",
    "<img src='figures/baseline.png'>"
   ]
  },
  {
   "cell_type": "markdown",
   "metadata": {},
   "source": [
    "Although better than randomly guessing, the baseline model performed poorly.\n",
    "- Some points in the graph is very distant from the diagonal, perfect-model line.\n",
    "\n",
    "- Spearman's rank correlation coefficients ranged ($\\rho$) from 0.25 to 0.65.\n",
    "\n",
    "  According to Cohen(1988)'s guidelines,\n",
    "    - $0.1 < \\rho < 0.3$ : small correlation\n",
    "    - $0.3 < \\rho < 0.5$ : medium/moderate correlation\n",
    "    - $0.5 < \\rho$ : large/strong correlation\n",
    "    \n",
    "In order to improve the model, we will next perform dimension reduction and add in a number of meta-features (e.g. essay length) that may correlate to the score."
   ]
  }
 ],
 "metadata": {
  "anaconda-cloud": {},
  "kernelspec": {
   "display_name": "Python 2",
   "language": "python",
   "name": "python2"
  },
  "language_info": {
   "codemirror_mode": {
    "name": "ipython",
    "version": 2
   },
   "file_extension": ".py",
   "mimetype": "text/x-python",
   "name": "python",
   "nbconvert_exporter": "python",
   "pygments_lexer": "ipython2",
   "version": "2.7.12"
  }
 },
 "nbformat": 4,
 "nbformat_minor": 0
}
