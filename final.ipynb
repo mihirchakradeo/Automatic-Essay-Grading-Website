{
 "cells": [
  {
   "cell_type": "markdown",
   "metadata": {
    "collapsed": true
   },
   "source": [
    "# Final Model\n",
    "\n",
    "In the previous chapters, we have described how the model can be enhanced using LSA, meta-features, and Lasso.\n",
    "\n",
    "Our final model, consists of significantly fewer number of features (ranging from 11 to 221).\n",
    "\n",
    "The image below shows the the scatter plot of actual score vs predicted score using the final model.\n",
    "\n",
    "<img src='figures/final.png'>\n"
   ]
  },
  {
   "cell_type": "markdown",
   "metadata": {},
   "source": [
    "Compared to the baseline model, our final model significantly improved in terms of Spearman's rank correlation coefficient ($\\rho$).\n",
    "\n",
    "| $\\rho$ | Baseline | Final\n",
    "| :-: |:--: | :-: |\n",
    "| 1 | 0.51 | 0.84 |\n",
    "| 2 | 0.42 | 0.76 | \n",
    "| 3 | 0.25 | 0.75 | \n",
    "| 4 | 0.62 | 0.85 |\n",
    "| 5 | 0.46 | 0.86 | \n",
    "| 6 | 0.54 | 0.85 | \n",
    "| 7 | 0.58 | 0.83 | \n",
    "| 8 | 0.65 | 0.78 | \n",
    "\n"
   ]
  },
  {
   "cell_type": "code",
   "execution_count": null,
   "metadata": {
    "collapsed": true
   },
   "outputs": [],
   "source": []
  }
 ],
 "metadata": {
  "anaconda-cloud": {},
  "kernelspec": {
   "display_name": "Python 2",
   "language": "python",
   "name": "python2"
  },
  "language_info": {
   "codemirror_mode": {
    "name": "ipython",
    "version": 2
   },
   "file_extension": ".py",
   "mimetype": "text/x-python",
   "name": "python",
   "nbconvert_exporter": "python",
   "pygments_lexer": "ipython2",
   "version": "2.7.12"
  }
 },
 "nbformat": 4,
 "nbformat_minor": 0
}
