{
 "cells": [
  {
   "cell_type": "markdown",
   "metadata": {
    "collapsed": true
   },
   "source": [
    "# Final Model\n",
    "\n",
    "In the previous chapters, we have described how the model can be enhanced using LSA, meta-features, and Lasso. Our final model consists of significantly fewer features (ranging from 11 to 221) than the baseline model (which had feature counts in the thousands). The image below shows the the scatter plot of actual score vs predicted score using the final model.\n",
    "\n",
    "![FINAL IMAGE](figures/final.png)\n",
    "\n",
    "<img src='figures/final.png'>\n"
   ]
  },
  {
   "cell_type": "markdown",
   "metadata": {},
   "source": [
    "Overall, this final model improves quite a bit on the baseline model. The table below summarizes the improvement in terms of Spearman's rank correlation $\\rho$, which is a measure of how closely the predicted scores follow the actual scores. The baseline model results are from a simple train-test split, where we split the data into separate training and testing sets, creating the model based on information from the training set only and evaluating it with data from the the testing set only. The final model is the average result from 5-fold cross validation.\n",
    "\n",
    "| $\\rho$ | Baseline | Final\n",
    "| :-: |:--: | :-: |\n",
    "| 1 | 0.51 | 0.84 |\n",
    "| 2 | 0.42 | 0.76 | \n",
    "| 3 | 0.25 | 0.75 | \n",
    "| 4 | 0.62 | 0.85 |\n",
    "| 5 | 0.46 | 0.86 | \n",
    "| 6 | 0.54 | 0.85 | \n",
    "| 7 | 0.58 | 0.83 | \n",
    "| 8 | 0.65 | 0.78 | \n",
    "\n"
   ]
  },
  {
   "cell_type": "code",
   "execution_count": null,
   "metadata": {
    "collapsed": true
   },
   "outputs": [],
   "source": []
  }
 ],
 "metadata": {
  "anaconda-cloud": {},
  "kernelspec": {
   "display_name": "Python 2",
   "language": "python",
   "name": "python2"
  },
  "language_info": {
   "codemirror_mode": {
    "name": "ipython",
    "version": 2
   },
   "file_extension": ".py",
   "mimetype": "text/x-python",
   "name": "python",
   "nbconvert_exporter": "python",
   "pygments_lexer": "ipython2",
   "version": "2.7.12"
  }
 },
 "nbformat": 4,
 "nbformat_minor": 0
}
